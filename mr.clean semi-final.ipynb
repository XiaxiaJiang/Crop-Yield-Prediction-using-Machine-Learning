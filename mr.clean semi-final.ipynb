{
 "cells": [
  {
   "cell_type": "markdown",
   "metadata": {},
   "source": [
    "# Data Preprocessing"
   ]
  },
  {
   "cell_type": "markdown",
   "metadata": {},
   "source": [
    "## Importing the libraries"
   ]
  },
  {
   "cell_type": "code",
   "execution_count": 1,
   "metadata": {},
   "outputs": [],
   "source": [
    "import numpy as np\n",
    "import matplotlib.pyplot as plt\n",
    "import pandas as pd\n",
    "import matplotlib.pyplot as plt\n",
    "\n",
    "from sklearn.metrics import r2_score\n"
   ]
  },
  {
   "cell_type": "markdown",
   "metadata": {},
   "source": [
    "## Importing the datasets"
   ]
  },
  {
   "cell_type": "code",
   "execution_count": 41,
   "metadata": {},
   "outputs": [],
   "source": [
    "dataset2013= pd.read_csv('wheat-2013-supervised.csv')\n",
    "dataset2014 = pd.read_csv('wheat-2014-supervised.csv')\n",
    "\n",
    "#merging the datas to create a single dataset\n",
    "dataset = pd.concat([dataset2013, dataset2014],axis=0)"
   ]
  },
  {
   "cell_type": "markdown",
   "metadata": {},
   "source": [
    "## Understanding the Dataset"
   ]
  },
  {
   "cell_type": "code",
   "execution_count": 42,
   "metadata": {},
   "outputs": [
    {
     "name": "stdout",
     "output_type": "stream",
     "text": [
      "(177493, 26)\n",
      "(182549, 26)\n",
      "(360042, 26)\n"
     ]
    }
   ],
   "source": [
    "print(dataset2013.shape)\n",
    "print(dataset2014.shape)\n",
    "print(dataset.shape)\n"
   ]
  },
  {
   "cell_type": "code",
   "execution_count": 13,
   "metadata": {},
   "outputs": [
    {
     "data": {
      "text/html": [
       "<div>\n",
       "<style scoped>\n",
       "    .dataframe tbody tr th:only-of-type {\n",
       "        vertical-align: middle;\n",
       "    }\n",
       "\n",
       "    .dataframe tbody tr th {\n",
       "        vertical-align: top;\n",
       "    }\n",
       "\n",
       "    .dataframe thead th {\n",
       "        text-align: right;\n",
       "    }\n",
       "</style>\n",
       "<table border=\"1\" class=\"dataframe\">\n",
       "  <thead>\n",
       "    <tr style=\"text-align: right;\">\n",
       "      <th></th>\n",
       "      <th>CountyName</th>\n",
       "      <th>State</th>\n",
       "      <th>Latitude</th>\n",
       "      <th>Longitude</th>\n",
       "      <th>Date</th>\n",
       "      <th>apparentTemperatureMax</th>\n",
       "      <th>apparentTemperatureMin</th>\n",
       "      <th>cloudCover</th>\n",
       "      <th>dewPoint</th>\n",
       "      <th>humidity</th>\n",
       "      <th>...</th>\n",
       "      <th>precipTypeIsOther</th>\n",
       "      <th>pressure</th>\n",
       "      <th>temperatureMax</th>\n",
       "      <th>temperatureMin</th>\n",
       "      <th>visibility</th>\n",
       "      <th>windBearing</th>\n",
       "      <th>windSpeed</th>\n",
       "      <th>NDVI</th>\n",
       "      <th>DayInSeason</th>\n",
       "      <th>Yield</th>\n",
       "    </tr>\n",
       "  </thead>\n",
       "  <tbody>\n",
       "    <tr>\n",
       "      <th>0</th>\n",
       "      <td>Adams</td>\n",
       "      <td>Washington</td>\n",
       "      <td>46.811686</td>\n",
       "      <td>-118.695237</td>\n",
       "      <td>11/30/2013 0:00</td>\n",
       "      <td>35.70</td>\n",
       "      <td>20.85</td>\n",
       "      <td>0.00</td>\n",
       "      <td>29.53</td>\n",
       "      <td>0.91</td>\n",
       "      <td>...</td>\n",
       "      <td>0</td>\n",
       "      <td>1027.13</td>\n",
       "      <td>35.70</td>\n",
       "      <td>27.48</td>\n",
       "      <td>2.46</td>\n",
       "      <td>214</td>\n",
       "      <td>1.18</td>\n",
       "      <td>134.110657</td>\n",
       "      <td>0</td>\n",
       "      <td>35.7</td>\n",
       "    </tr>\n",
       "    <tr>\n",
       "      <th>1</th>\n",
       "      <td>Adams</td>\n",
       "      <td>Washington</td>\n",
       "      <td>46.929839</td>\n",
       "      <td>-118.352109</td>\n",
       "      <td>11/30/2013 0:00</td>\n",
       "      <td>35.10</td>\n",
       "      <td>26.92</td>\n",
       "      <td>0.00</td>\n",
       "      <td>29.77</td>\n",
       "      <td>0.93</td>\n",
       "      <td>...</td>\n",
       "      <td>0</td>\n",
       "      <td>1026.87</td>\n",
       "      <td>35.10</td>\n",
       "      <td>26.92</td>\n",
       "      <td>2.83</td>\n",
       "      <td>166</td>\n",
       "      <td>1.01</td>\n",
       "      <td>131.506592</td>\n",
       "      <td>0</td>\n",
       "      <td>35.7</td>\n",
       "    </tr>\n",
       "    <tr>\n",
       "      <th>2</th>\n",
       "      <td>Adams</td>\n",
       "      <td>Washington</td>\n",
       "      <td>47.006888</td>\n",
       "      <td>-118.510160</td>\n",
       "      <td>11/30/2013 0:00</td>\n",
       "      <td>33.38</td>\n",
       "      <td>26.95</td>\n",
       "      <td>0.00</td>\n",
       "      <td>29.36</td>\n",
       "      <td>0.94</td>\n",
       "      <td>...</td>\n",
       "      <td>0</td>\n",
       "      <td>1026.88</td>\n",
       "      <td>33.38</td>\n",
       "      <td>26.95</td>\n",
       "      <td>2.95</td>\n",
       "      <td>158</td>\n",
       "      <td>1.03</td>\n",
       "      <td>131.472946</td>\n",
       "      <td>0</td>\n",
       "      <td>35.7</td>\n",
       "    </tr>\n",
       "    <tr>\n",
       "      <th>3</th>\n",
       "      <td>Adams</td>\n",
       "      <td>Washington</td>\n",
       "      <td>47.162342</td>\n",
       "      <td>-118.699677</td>\n",
       "      <td>11/30/2013 0:00</td>\n",
       "      <td>28.05</td>\n",
       "      <td>25.93</td>\n",
       "      <td>0.91</td>\n",
       "      <td>29.47</td>\n",
       "      <td>0.94</td>\n",
       "      <td>...</td>\n",
       "      <td>0</td>\n",
       "      <td>1026.37</td>\n",
       "      <td>33.19</td>\n",
       "      <td>27.17</td>\n",
       "      <td>2.89</td>\n",
       "      <td>153</td>\n",
       "      <td>1.84</td>\n",
       "      <td>131.288300</td>\n",
       "      <td>0</td>\n",
       "      <td>35.7</td>\n",
       "    </tr>\n",
       "    <tr>\n",
       "      <th>4</th>\n",
       "      <td>Adams</td>\n",
       "      <td>Washington</td>\n",
       "      <td>47.157512</td>\n",
       "      <td>-118.434056</td>\n",
       "      <td>11/30/2013 0:00</td>\n",
       "      <td>28.83</td>\n",
       "      <td>25.98</td>\n",
       "      <td>0.91</td>\n",
       "      <td>29.86</td>\n",
       "      <td>0.94</td>\n",
       "      <td>...</td>\n",
       "      <td>0</td>\n",
       "      <td>1026.19</td>\n",
       "      <td>33.85</td>\n",
       "      <td>27.07</td>\n",
       "      <td>2.97</td>\n",
       "      <td>156</td>\n",
       "      <td>1.85</td>\n",
       "      <td>131.288300</td>\n",
       "      <td>0</td>\n",
       "      <td>35.7</td>\n",
       "    </tr>\n",
       "  </tbody>\n",
       "</table>\n",
       "<p>5 rows × 26 columns</p>\n",
       "</div>"
      ],
      "text/plain": [
       "  CountyName       State   Latitude   Longitude             Date  \\\n",
       "0      Adams  Washington  46.811686 -118.695237  11/30/2013 0:00   \n",
       "1      Adams  Washington  46.929839 -118.352109  11/30/2013 0:00   \n",
       "2      Adams  Washington  47.006888 -118.510160  11/30/2013 0:00   \n",
       "3      Adams  Washington  47.162342 -118.699677  11/30/2013 0:00   \n",
       "4      Adams  Washington  47.157512 -118.434056  11/30/2013 0:00   \n",
       "\n",
       "   apparentTemperatureMax  apparentTemperatureMin  cloudCover  dewPoint  \\\n",
       "0                   35.70                   20.85        0.00     29.53   \n",
       "1                   35.10                   26.92        0.00     29.77   \n",
       "2                   33.38                   26.95        0.00     29.36   \n",
       "3                   28.05                   25.93        0.91     29.47   \n",
       "4                   28.83                   25.98        0.91     29.86   \n",
       "\n",
       "   humidity  ...    precipTypeIsOther  pressure  temperatureMax  \\\n",
       "0      0.91  ...                    0   1027.13           35.70   \n",
       "1      0.93  ...                    0   1026.87           35.10   \n",
       "2      0.94  ...                    0   1026.88           33.38   \n",
       "3      0.94  ...                    0   1026.37           33.19   \n",
       "4      0.94  ...                    0   1026.19           33.85   \n",
       "\n",
       "   temperatureMin  visibility  windBearing  windSpeed        NDVI  \\\n",
       "0           27.48        2.46          214       1.18  134.110657   \n",
       "1           26.92        2.83          166       1.01  131.506592   \n",
       "2           26.95        2.95          158       1.03  131.472946   \n",
       "3           27.17        2.89          153       1.84  131.288300   \n",
       "4           27.07        2.97          156       1.85  131.288300   \n",
       "\n",
       "   DayInSeason  Yield  \n",
       "0            0   35.7  \n",
       "1            0   35.7  \n",
       "2            0   35.7  \n",
       "3            0   35.7  \n",
       "4            0   35.7  \n",
       "\n",
       "[5 rows x 26 columns]"
      ]
     },
     "execution_count": 13,
     "metadata": {},
     "output_type": "execute_result"
    }
   ],
   "source": [
    "#dataset2013.head()\n",
    "#dataset2014.head()\n",
    "dataset.head()"
   ]
  },
  {
   "cell_type": "code",
   "execution_count": 14,
   "metadata": {},
   "outputs": [
    {
     "data": {
      "text/html": [
       "<div>\n",
       "<style scoped>\n",
       "    .dataframe tbody tr th:only-of-type {\n",
       "        vertical-align: middle;\n",
       "    }\n",
       "\n",
       "    .dataframe tbody tr th {\n",
       "        vertical-align: top;\n",
       "    }\n",
       "\n",
       "    .dataframe thead th {\n",
       "        text-align: right;\n",
       "    }\n",
       "</style>\n",
       "<table border=\"1\" class=\"dataframe\">\n",
       "  <thead>\n",
       "    <tr style=\"text-align: right;\">\n",
       "      <th></th>\n",
       "      <th>Latitude</th>\n",
       "      <th>Longitude</th>\n",
       "      <th>apparentTemperatureMax</th>\n",
       "      <th>apparentTemperatureMin</th>\n",
       "      <th>cloudCover</th>\n",
       "      <th>dewPoint</th>\n",
       "      <th>humidity</th>\n",
       "      <th>precipIntensity</th>\n",
       "      <th>precipIntensityMax</th>\n",
       "      <th>precipProbability</th>\n",
       "      <th>...</th>\n",
       "      <th>precipTypeIsOther</th>\n",
       "      <th>pressure</th>\n",
       "      <th>temperatureMax</th>\n",
       "      <th>temperatureMin</th>\n",
       "      <th>visibility</th>\n",
       "      <th>windBearing</th>\n",
       "      <th>windSpeed</th>\n",
       "      <th>NDVI</th>\n",
       "      <th>DayInSeason</th>\n",
       "      <th>Yield</th>\n",
       "    </tr>\n",
       "  </thead>\n",
       "  <tbody>\n",
       "    <tr>\n",
       "      <th>count</th>\n",
       "      <td>177493.000000</td>\n",
       "      <td>177493.000000</td>\n",
       "      <td>177493.000000</td>\n",
       "      <td>177493.000000</td>\n",
       "      <td>177493.000000</td>\n",
       "      <td>177493.000000</td>\n",
       "      <td>177493.000000</td>\n",
       "      <td>177492.000000</td>\n",
       "      <td>177492.000000</td>\n",
       "      <td>177492.000000</td>\n",
       "      <td>...</td>\n",
       "      <td>177493.0</td>\n",
       "      <td>177239.000000</td>\n",
       "      <td>177493.000000</td>\n",
       "      <td>177493.000000</td>\n",
       "      <td>177463.000000</td>\n",
       "      <td>177493.000000</td>\n",
       "      <td>177493.000000</td>\n",
       "      <td>177493.000000</td>\n",
       "      <td>177493.000000</td>\n",
       "      <td>177493.000000</td>\n",
       "    </tr>\n",
       "    <tr>\n",
       "      <th>mean</th>\n",
       "      <td>37.525355</td>\n",
       "      <td>-100.877849</td>\n",
       "      <td>54.836240</td>\n",
       "      <td>27.915526</td>\n",
       "      <td>0.071478</td>\n",
       "      <td>29.712311</td>\n",
       "      <td>0.593973</td>\n",
       "      <td>0.001158</td>\n",
       "      <td>0.010633</td>\n",
       "      <td>0.133540</td>\n",
       "      <td>...</td>\n",
       "      <td>0.0</td>\n",
       "      <td>1017.077664</td>\n",
       "      <td>57.547801</td>\n",
       "      <td>34.393113</td>\n",
       "      <td>9.285829</td>\n",
       "      <td>191.165483</td>\n",
       "      <td>8.436830</td>\n",
       "      <td>146.346701</td>\n",
       "      <td>92.633084</td>\n",
       "      <td>31.443024</td>\n",
       "    </tr>\n",
       "    <tr>\n",
       "      <th>std</th>\n",
       "      <td>4.918148</td>\n",
       "      <td>5.960510</td>\n",
       "      <td>23.827278</td>\n",
       "      <td>22.029381</td>\n",
       "      <td>0.138932</td>\n",
       "      <td>16.687710</td>\n",
       "      <td>0.163590</td>\n",
       "      <td>0.004559</td>\n",
       "      <td>0.044782</td>\n",
       "      <td>0.253416</td>\n",
       "      <td>...</td>\n",
       "      <td>0.0</td>\n",
       "      <td>8.607401</td>\n",
       "      <td>20.755273</td>\n",
       "      <td>17.801718</td>\n",
       "      <td>1.281721</td>\n",
       "      <td>104.103600</td>\n",
       "      <td>4.767758</td>\n",
       "      <td>10.130267</td>\n",
       "      <td>53.608768</td>\n",
       "      <td>15.214107</td>\n",
       "    </tr>\n",
       "    <tr>\n",
       "      <th>min</th>\n",
       "      <td>27.803015</td>\n",
       "      <td>-120.914093</td>\n",
       "      <td>-39.970000</td>\n",
       "      <td>-58.420000</td>\n",
       "      <td>0.000000</td>\n",
       "      <td>-36.090000</td>\n",
       "      <td>0.080000</td>\n",
       "      <td>0.000000</td>\n",
       "      <td>0.000000</td>\n",
       "      <td>0.000000</td>\n",
       "      <td>...</td>\n",
       "      <td>0.0</td>\n",
       "      <td>942.490000</td>\n",
       "      <td>-22.000000</td>\n",
       "      <td>-39.790000</td>\n",
       "      <td>0.600000</td>\n",
       "      <td>0.000000</td>\n",
       "      <td>0.040000</td>\n",
       "      <td>117.000000</td>\n",
       "      <td>0.000000</td>\n",
       "      <td>9.000000</td>\n",
       "    </tr>\n",
       "    <tr>\n",
       "      <th>25%</th>\n",
       "      <td>34.135464</td>\n",
       "      <td>-101.294945</td>\n",
       "      <td>37.830000</td>\n",
       "      <td>14.310000</td>\n",
       "      <td>0.000000</td>\n",
       "      <td>19.600000</td>\n",
       "      <td>0.470000</td>\n",
       "      <td>0.000000</td>\n",
       "      <td>0.000000</td>\n",
       "      <td>0.000000</td>\n",
       "      <td>...</td>\n",
       "      <td>0.0</td>\n",
       "      <td>1011.240000</td>\n",
       "      <td>43.350000</td>\n",
       "      <td>23.420000</td>\n",
       "      <td>9.180000</td>\n",
       "      <td>127.000000</td>\n",
       "      <td>4.760000</td>\n",
       "      <td>137.876236</td>\n",
       "      <td>46.000000</td>\n",
       "      <td>17.300000</td>\n",
       "    </tr>\n",
       "    <tr>\n",
       "      <th>50%</th>\n",
       "      <td>36.810364</td>\n",
       "      <td>-99.128028</td>\n",
       "      <td>58.880000</td>\n",
       "      <td>26.560000</td>\n",
       "      <td>0.010000</td>\n",
       "      <td>27.850000</td>\n",
       "      <td>0.600000</td>\n",
       "      <td>0.000000</td>\n",
       "      <td>0.000000</td>\n",
       "      <td>0.000000</td>\n",
       "      <td>...</td>\n",
       "      <td>0.0</td>\n",
       "      <td>1016.690000</td>\n",
       "      <td>58.880000</td>\n",
       "      <td>33.250000</td>\n",
       "      <td>9.890000</td>\n",
       "      <td>192.000000</td>\n",
       "      <td>7.670000</td>\n",
       "      <td>147.225510</td>\n",
       "      <td>93.000000</td>\n",
       "      <td>31.100000</td>\n",
       "    </tr>\n",
       "    <tr>\n",
       "      <th>75%</th>\n",
       "      <td>38.945878</td>\n",
       "      <td>-97.352044</td>\n",
       "      <td>73.100000</td>\n",
       "      <td>42.200000</td>\n",
       "      <td>0.090000</td>\n",
       "      <td>38.890000</td>\n",
       "      <td>0.720000</td>\n",
       "      <td>0.000200</td>\n",
       "      <td>0.002800</td>\n",
       "      <td>0.090000</td>\n",
       "      <td>...</td>\n",
       "      <td>0.0</td>\n",
       "      <td>1022.920000</td>\n",
       "      <td>73.100000</td>\n",
       "      <td>46.070000</td>\n",
       "      <td>10.000000</td>\n",
       "      <td>275.000000</td>\n",
       "      <td>11.530000</td>\n",
       "      <td>152.935913</td>\n",
       "      <td>139.000000</td>\n",
       "      <td>43.100000</td>\n",
       "    </tr>\n",
       "    <tr>\n",
       "      <th>max</th>\n",
       "      <td>48.981928</td>\n",
       "      <td>-94.613571</td>\n",
       "      <td>177.320000</td>\n",
       "      <td>77.180000</td>\n",
       "      <td>1.000000</td>\n",
       "      <td>75.180000</td>\n",
       "      <td>1.000000</td>\n",
       "      <td>0.152900</td>\n",
       "      <td>2.054900</td>\n",
       "      <td>0.960000</td>\n",
       "      <td>...</td>\n",
       "      <td>0.0</td>\n",
       "      <td>1048.130000</td>\n",
       "      <td>105.200000</td>\n",
       "      <td>77.180000</td>\n",
       "      <td>10.000000</td>\n",
       "      <td>359.000000</td>\n",
       "      <td>31.730000</td>\n",
       "      <td>206.000000</td>\n",
       "      <td>185.000000</td>\n",
       "      <td>72.200000</td>\n",
       "    </tr>\n",
       "  </tbody>\n",
       "</table>\n",
       "<p>8 rows × 23 columns</p>\n",
       "</div>"
      ],
      "text/plain": [
       "            Latitude      Longitude  apparentTemperatureMax  \\\n",
       "count  177493.000000  177493.000000           177493.000000   \n",
       "mean       37.525355    -100.877849               54.836240   \n",
       "std         4.918148       5.960510               23.827278   \n",
       "min        27.803015    -120.914093              -39.970000   \n",
       "25%        34.135464    -101.294945               37.830000   \n",
       "50%        36.810364     -99.128028               58.880000   \n",
       "75%        38.945878     -97.352044               73.100000   \n",
       "max        48.981928     -94.613571              177.320000   \n",
       "\n",
       "       apparentTemperatureMin     cloudCover       dewPoint       humidity  \\\n",
       "count           177493.000000  177493.000000  177493.000000  177493.000000   \n",
       "mean                27.915526       0.071478      29.712311       0.593973   \n",
       "std                 22.029381       0.138932      16.687710       0.163590   \n",
       "min                -58.420000       0.000000     -36.090000       0.080000   \n",
       "25%                 14.310000       0.000000      19.600000       0.470000   \n",
       "50%                 26.560000       0.010000      27.850000       0.600000   \n",
       "75%                 42.200000       0.090000      38.890000       0.720000   \n",
       "max                 77.180000       1.000000      75.180000       1.000000   \n",
       "\n",
       "       precipIntensity  precipIntensityMax  precipProbability      ...        \\\n",
       "count    177492.000000       177492.000000      177492.000000      ...         \n",
       "mean          0.001158            0.010633           0.133540      ...         \n",
       "std           0.004559            0.044782           0.253416      ...         \n",
       "min           0.000000            0.000000           0.000000      ...         \n",
       "25%           0.000000            0.000000           0.000000      ...         \n",
       "50%           0.000000            0.000000           0.000000      ...         \n",
       "75%           0.000200            0.002800           0.090000      ...         \n",
       "max           0.152900            2.054900           0.960000      ...         \n",
       "\n",
       "       precipTypeIsOther       pressure  temperatureMax  temperatureMin  \\\n",
       "count           177493.0  177239.000000   177493.000000   177493.000000   \n",
       "mean                 0.0    1017.077664       57.547801       34.393113   \n",
       "std                  0.0       8.607401       20.755273       17.801718   \n",
       "min                  0.0     942.490000      -22.000000      -39.790000   \n",
       "25%                  0.0    1011.240000       43.350000       23.420000   \n",
       "50%                  0.0    1016.690000       58.880000       33.250000   \n",
       "75%                  0.0    1022.920000       73.100000       46.070000   \n",
       "max                  0.0    1048.130000      105.200000       77.180000   \n",
       "\n",
       "          visibility    windBearing      windSpeed           NDVI  \\\n",
       "count  177463.000000  177493.000000  177493.000000  177493.000000   \n",
       "mean        9.285829     191.165483       8.436830     146.346701   \n",
       "std         1.281721     104.103600       4.767758      10.130267   \n",
       "min         0.600000       0.000000       0.040000     117.000000   \n",
       "25%         9.180000     127.000000       4.760000     137.876236   \n",
       "50%         9.890000     192.000000       7.670000     147.225510   \n",
       "75%        10.000000     275.000000      11.530000     152.935913   \n",
       "max        10.000000     359.000000      31.730000     206.000000   \n",
       "\n",
       "         DayInSeason          Yield  \n",
       "count  177493.000000  177493.000000  \n",
       "mean       92.633084      31.443024  \n",
       "std        53.608768      15.214107  \n",
       "min         0.000000       9.000000  \n",
       "25%        46.000000      17.300000  \n",
       "50%        93.000000      31.100000  \n",
       "75%       139.000000      43.100000  \n",
       "max       185.000000      72.200000  \n",
       "\n",
       "[8 rows x 23 columns]"
      ]
     },
     "execution_count": 14,
     "metadata": {},
     "output_type": "execute_result"
    }
   ],
   "source": [
    "dataset.describe()"
   ]
  },
  {
   "cell_type": "code",
   "execution_count": 15,
   "metadata": {},
   "outputs": [],
   "source": [
    "# Removing Columns which will not contribute to predicting Yield\n",
    "total_data1 = dataset.drop(['CountyName','State','Latitude','Longitude','Date'],axis=1)"
   ]
  },
  {
   "cell_type": "code",
   "execution_count": 16,
   "metadata": {},
   "outputs": [],
   "source": [
    "# Deleting the rows which have empty features\n",
    "total_data2 = total_data1.dropna(axis = 0)"
   ]
  },
  {
   "cell_type": "code",
   "execution_count": 17,
   "metadata": {},
   "outputs": [
    {
     "name": "stdout",
     "output_type": "stream",
     "text": [
      "0         35.7\n",
      "1         35.7\n",
      "2         35.7\n",
      "3         35.7\n",
      "4         35.7\n",
      "5         35.7\n",
      "6         14.4\n",
      "7         14.4\n",
      "8         14.4\n",
      "9         14.4\n",
      "10        14.4\n",
      "11        14.4\n",
      "12        46.5\n",
      "13        46.5\n",
      "14        46.5\n",
      "15        46.5\n",
      "16        46.5\n",
      "17        46.5\n",
      "18        45.6\n",
      "19        45.6\n",
      "20        45.6\n",
      "21        45.6\n",
      "22        45.6\n",
      "23        45.6\n",
      "24        13.1\n",
      "25        13.1\n",
      "26        13.1\n",
      "27        13.1\n",
      "28        13.1\n",
      "29        13.1\n",
      "          ... \n",
      "177463    36.9\n",
      "177464    11.2\n",
      "177465    11.2\n",
      "177466    11.2\n",
      "177467    11.2\n",
      "177468    11.2\n",
      "177469    47.9\n",
      "177470    47.9\n",
      "177471    47.9\n",
      "177472    47.9\n",
      "177473    47.9\n",
      "177474    47.9\n",
      "177475    30.4\n",
      "177476    30.4\n",
      "177477    30.4\n",
      "177478    30.4\n",
      "177479    30.4\n",
      "177480    30.4\n",
      "177481    31.9\n",
      "177482    31.9\n",
      "177483    31.9\n",
      "177484    31.9\n",
      "177485    31.9\n",
      "177486    31.9\n",
      "177487    59.0\n",
      "177488    59.0\n",
      "177489    59.0\n",
      "177490    59.0\n",
      "177491    59.0\n",
      "177492    59.0\n",
      "Name: Yield, Length: 177229, dtype: float64\n"
     ]
    }
   ],
   "source": [
    "# Yield data\n",
    "print(total_data2['Yield'])"
   ]
  },
  {
   "cell_type": "code",
   "execution_count": 18,
   "metadata": {},
   "outputs": [],
   "source": [
    "# Importing the library for splitting the data into Training and Testring sets\n",
    "from sklearn.model_selection import train_test_split"
   ]
  },
  {
   "cell_type": "code",
   "execution_count": 19,
   "metadata": {},
   "outputs": [],
   "source": [
    "# Splitting data to Train set and Test set\n",
    "y = total_data2['Yield']\n",
    "X = total_data2.drop(['Yield'],axis=1)\n",
    "X_train, X_test, y_train, y_test = train_test_split(X, y, test_size=0.3, random_state=42)"
   ]
  },
  {
   "cell_type": "code",
   "execution_count": 20,
   "metadata": {
    "scrolled": true
   },
   "outputs": [
    {
     "data": {
      "text/plain": [
       "\"\\nfrom sklearn import preprocessing\\ncolumns_to_scale = total_data2.columns.tolist()\\ncolumns_to_scale = [x for x in columns_to_scale if x != 'Yield']\\nprint(columns_to_scale)\\n\\nstd_scaler = preprocessing.StandardScaler().fit(X_train[columns_to_scale])\\nminmax_scaler = preprocessing.MinMaxScaler().fit(X_train[columns_to_scale])\\n\\nX_train[columns_to_scale] = std_scaler.transform(X_train[columns_to_scale])\\n\\nX_test[columns_to_scale] = std_scaler.transform(X_test[columns_to_scale])\\n\\n\""
      ]
     },
     "execution_count": 20,
     "metadata": {},
     "output_type": "execute_result"
    }
   ],
   "source": [
    "# Scaling the values\n",
    "'''\n",
    "from sklearn import preprocessing\n",
    "columns_to_scale = total_data2.columns.tolist()\n",
    "columns_to_scale = [x for x in columns_to_scale if x != 'Yield']\n",
    "print(columns_to_scale)\n",
    "\n",
    "std_scaler = preprocessing.StandardScaler().fit(X_train[columns_to_scale])\n",
    "minmax_scaler = preprocessing.MinMaxScaler().fit(X_train[columns_to_scale])\n",
    "\n",
    "X_train[columns_to_scale] = std_scaler.transform(X_train[columns_to_scale])\n",
    "\n",
    "X_test[columns_to_scale] = std_scaler.transform(X_test[columns_to_scale])\n",
    "\n",
    "'''"
   ]
  },
  {
   "cell_type": "code",
   "execution_count": 21,
   "metadata": {},
   "outputs": [
    {
     "data": {
      "text/plain": [
       "(        apparentTemperatureMax  apparentTemperatureMin  cloudCover  dewPoint  \\\n",
       " 0                        35.70                   20.85        0.00     29.53   \n",
       " 1                        35.10                   26.92        0.00     29.77   \n",
       " 2                        33.38                   26.95        0.00     29.36   \n",
       " 3                        28.05                   25.93        0.91     29.47   \n",
       " 4                        28.83                   25.98        0.91     29.86   \n",
       " 5                        30.32                   22.40        0.00     28.91   \n",
       " 6                        61.87                   24.98        0.00     33.35   \n",
       " 7                        61.94                   24.74        0.00     33.20   \n",
       " 8                        61.19                   26.95        0.00     35.18   \n",
       " 9                        61.35                   26.87        0.00     35.15   \n",
       " 10                       61.17                   27.18        0.00     35.47   \n",
       " 11                       60.71                   28.19        0.00     36.32   \n",
       " 12                       57.60                   31.20        0.00     34.54   \n",
       " 13                       57.36                   30.05        0.00     34.05   \n",
       " 14                       57.51                   30.79        0.00     34.50   \n",
       " 15                       57.40                   30.30        0.00     34.00   \n",
       " 16                       57.25                   30.99        0.00     33.59   \n",
       " 17                       57.23                   31.33        0.00     33.55   \n",
       " 18                       54.83                   25.60        0.00     30.61   \n",
       " 19                       56.56                   29.70        0.00     33.18   \n",
       " 20                       56.86                   29.41        0.00     32.80   \n",
       " 21                       55.43                   26.39        0.00     31.30   \n",
       " 22                       55.15                   25.42        0.00     31.27   \n",
       " 23                       54.87                   28.86        0.00     32.39   \n",
       " 24                       66.45                   34.70        0.00     43.11   \n",
       " 25                       66.40                   34.74        0.00     42.24   \n",
       " 26                       67.20                   38.17        0.00     44.86   \n",
       " 27                       67.32                   38.45        0.00     45.00   \n",
       " 28                       66.62                   36.95        0.00     44.10   \n",
       " 29                       66.99                   36.25        0.00     44.41   \n",
       " ...                        ...                     ...         ...       ...   \n",
       " 177463                   94.58                   71.18        0.17     68.75   \n",
       " 177464                   89.89                   70.47        0.09     65.76   \n",
       " 177465                   89.91                   70.47        0.09     65.73   \n",
       " 177466                   89.69                   70.64        0.10     65.71   \n",
       " 177467                   89.69                   70.66        0.10     65.93   \n",
       " 177468                   89.66                   70.67        0.10     65.68   \n",
       " 177469                   92.48                   72.65        0.18     69.39   \n",
       " 177470                   92.49                   72.46        0.16     69.49   \n",
       " 177471                   92.82                   72.40        0.16     68.51   \n",
       " 177472                   93.03                   72.50        0.17     68.91   \n",
       " 177473                   92.84                   72.54        0.16     68.95   \n",
       " 177474                   92.89                   72.53        0.15     69.60   \n",
       " 177475                   93.24                   71.53        0.13     67.51   \n",
       " 177476                   93.80                   71.31        0.13     67.79   \n",
       " 177477                   93.80                   71.23        0.14     67.81   \n",
       " 177478                   93.47                   71.16        0.14     67.73   \n",
       " 177479                   93.93                   70.69        0.12     67.32   \n",
       " 177480                   93.37                   71.24        0.14     67.67   \n",
       " 177481                   95.89                   75.35        0.16     69.14   \n",
       " 177482                   96.09                   74.93        0.32     70.00   \n",
       " 177483                   96.41                   75.52        0.31     69.53   \n",
       " 177484                   96.41                   75.51        0.28     69.37   \n",
       " 177485                   95.22                   74.95        0.30     69.56   \n",
       " 177486                   95.21                   74.88        0.16     69.37   \n",
       " 177487                   93.81                   68.82        0.19     68.85   \n",
       " 177488                   93.80                   68.87        0.19     68.84   \n",
       " 177489                   93.52                   68.80        0.19     68.82   \n",
       " 177490                   94.03                   68.76        0.19     68.87   \n",
       " 177491                   94.00                   68.99        0.19     68.86   \n",
       " 177492                   94.00                   68.40        0.19     69.02   \n",
       " \n",
       "         humidity  precipIntensity  precipIntensityMax  precipProbability  \\\n",
       " 0           0.91           0.0000              0.0000               0.00   \n",
       " 1           0.93           0.0001              0.0019               0.05   \n",
       " 2           0.94           0.0001              0.0022               0.06   \n",
       " 3           0.94           0.0002              0.0039               0.15   \n",
       " 4           0.94           0.0003              0.0055               0.24   \n",
       " 5           0.91           0.0000              0.0000               0.00   \n",
       " 6           0.72           0.0000              0.0000               0.00   \n",
       " 7           0.72           0.0000              0.0000               0.00   \n",
       " 8           0.75           0.0000              0.0000               0.00   \n",
       " 9           0.73           0.0000              0.0000               0.00   \n",
       " 10          0.74           0.0000              0.0000               0.00   \n",
       " 11          0.76           0.0000              0.0000               0.00   \n",
       " 12          0.69           0.0000              0.0000               0.00   \n",
       " 13          0.69           0.0000              0.0000               0.00   \n",
       " 14          0.69           0.0000              0.0000               0.00   \n",
       " 15          0.68           0.0000              0.0000               0.00   \n",
       " 16          0.67           0.0000              0.0000               0.00   \n",
       " 17          0.67           0.0000              0.0000               0.00   \n",
       " 18          0.66           0.0000              0.0000               0.00   \n",
       " 19          0.67           0.0000              0.0000               0.00   \n",
       " 20          0.67           0.0000              0.0000               0.00   \n",
       " 21          0.67           0.0000              0.0000               0.00   \n",
       " 22          0.67           0.0000              0.0000               0.00   \n",
       " 23          0.67           0.0000              0.0000               0.00   \n",
       " 24          0.75           0.0000              0.0000               0.00   \n",
       " 25          0.73           0.0000              0.0000               0.00   \n",
       " 26          0.75           0.0000              0.0000               0.00   \n",
       " 27          0.75           0.0000              0.0000               0.00   \n",
       " 28          0.76           0.0000              0.0000               0.00   \n",
       " 29          0.76           0.0000              0.0000               0.00   \n",
       " ...          ...              ...                 ...                ...   \n",
       " 177463      0.69           0.0000              0.0000               0.00   \n",
       " 177464      0.66           0.0000              0.0000               0.00   \n",
       " 177465      0.66           0.0000              0.0000               0.00   \n",
       " 177466      0.66           0.0000              0.0000               0.00   \n",
       " 177467      0.67           0.0000              0.0000               0.00   \n",
       " 177468      0.66           0.0000              0.0000               0.00   \n",
       " 177469      0.72           0.0000              0.0000               0.00   \n",
       " 177470      0.72           0.0000              0.0000               0.00   \n",
       " 177471      0.70           0.0000              0.0000               0.00   \n",
       " 177472      0.71           0.0000              0.0000               0.00   \n",
       " 177473      0.71           0.0000              0.0000               0.00   \n",
       " 177474      0.72           0.0000              0.0000               0.00   \n",
       " 177475      0.66           0.0000              0.0000               0.00   \n",
       " 177476      0.67           0.0000              0.0000               0.00   \n",
       " 177477      0.67           0.0000              0.0000               0.00   \n",
       " 177478      0.67           0.0000              0.0000               0.00   \n",
       " 177479      0.66           0.0001              0.0012               0.02   \n",
       " 177480      0.67           0.0000              0.0000               0.00   \n",
       " 177481      0.65           0.0000              0.0000               0.00   \n",
       " 177482      0.68           0.0000              0.0000               0.00   \n",
       " 177483      0.66           0.0000              0.0000               0.00   \n",
       " 177484      0.66           0.0000              0.0000               0.00   \n",
       " 177485      0.68           0.0000              0.0000               0.00   \n",
       " 177486      0.67           0.0000              0.0000               0.00   \n",
       " 177487      0.73           0.0000              0.0000               0.00   \n",
       " 177488      0.73           0.0000              0.0000               0.00   \n",
       " 177489      0.73           0.0000              0.0000               0.00   \n",
       " 177490      0.73           0.0000              0.0000               0.00   \n",
       " 177491      0.72           0.0000              0.0000               0.00   \n",
       " 177492      0.74           0.0000              0.0000               0.00   \n",
       " \n",
       "         precipAccumulation  precipTypeIsRain  precipTypeIsSnow  \\\n",
       " 0                    0.000               0.0               0.0   \n",
       " 1                    0.000               1.0               0.0   \n",
       " 2                    0.020               0.0               1.0   \n",
       " 3                    0.036               0.0               1.0   \n",
       " 4                    0.000               1.0               0.0   \n",
       " 5                    0.000               0.0               0.0   \n",
       " 6                    0.000               0.0               0.0   \n",
       " 7                    0.000               0.0               0.0   \n",
       " 8                    0.000               0.0               0.0   \n",
       " 9                    0.000               0.0               0.0   \n",
       " 10                   0.000               0.0               0.0   \n",
       " 11                   0.000               0.0               0.0   \n",
       " 12                   0.000               0.0               0.0   \n",
       " 13                   0.000               0.0               0.0   \n",
       " 14                   0.000               0.0               0.0   \n",
       " 15                   0.000               0.0               0.0   \n",
       " 16                   0.000               0.0               0.0   \n",
       " 17                   0.000               0.0               0.0   \n",
       " 18                   0.000               0.0               0.0   \n",
       " 19                   0.000               0.0               0.0   \n",
       " 20                   0.000               0.0               0.0   \n",
       " 21                   0.000               0.0               0.0   \n",
       " 22                   0.000               0.0               0.0   \n",
       " 23                   0.000               0.0               0.0   \n",
       " 24                   0.000               0.0               0.0   \n",
       " 25                   0.000               0.0               0.0   \n",
       " 26                   0.000               0.0               0.0   \n",
       " 27                   0.000               0.0               0.0   \n",
       " 28                   0.000               0.0               0.0   \n",
       " 29                   0.000               0.0               0.0   \n",
       " ...                    ...               ...               ...   \n",
       " 177463               0.000               0.0               0.0   \n",
       " 177464               0.000               0.0               0.0   \n",
       " 177465               0.000               0.0               0.0   \n",
       " 177466               0.000               0.0               0.0   \n",
       " 177467               0.000               0.0               0.0   \n",
       " 177468               0.000               0.0               0.0   \n",
       " 177469               0.000               0.0               0.0   \n",
       " 177470               0.000               0.0               0.0   \n",
       " 177471               0.000               0.0               0.0   \n",
       " 177472               0.000               0.0               0.0   \n",
       " 177473               0.000               0.0               0.0   \n",
       " 177474               0.000               0.0               0.0   \n",
       " 177475               0.000               0.0               0.0   \n",
       " 177476               0.000               0.0               0.0   \n",
       " 177477               0.000               0.0               0.0   \n",
       " 177478               0.000               0.0               0.0   \n",
       " 177479               0.000               1.0               0.0   \n",
       " 177480               0.000               0.0               0.0   \n",
       " 177481               0.000               0.0               0.0   \n",
       " 177482               0.000               0.0               0.0   \n",
       " 177483               0.000               0.0               0.0   \n",
       " 177484               0.000               0.0               0.0   \n",
       " 177485               0.000               0.0               0.0   \n",
       " 177486               0.000               0.0               0.0   \n",
       " 177487               0.000               0.0               0.0   \n",
       " 177488               0.000               0.0               0.0   \n",
       " 177489               0.000               0.0               0.0   \n",
       " 177490               0.000               0.0               0.0   \n",
       " 177491               0.000               0.0               0.0   \n",
       " 177492               0.000               0.0               0.0   \n",
       " \n",
       "         precipTypeIsOther  pressure  temperatureMax  temperatureMin  \\\n",
       " 0                     0.0   1027.13           35.70           27.48   \n",
       " 1                     0.0   1026.87           35.10           26.92   \n",
       " 2                     0.0   1026.88           33.38           26.95   \n",
       " 3                     0.0   1026.37           33.19           27.17   \n",
       " 4                     0.0   1026.19           33.85           27.07   \n",
       " 5                     0.0   1026.87           33.19           28.79   \n",
       " 6                     0.0   1020.65           61.87           29.61   \n",
       " 7                     0.0   1020.64           61.94           29.57   \n",
       " 8                     0.0   1020.74           61.19           31.49   \n",
       " 9                     0.0   1020.73           61.35           32.62   \n",
       " 10                    0.0   1020.74           61.17           32.67   \n",
       " 11                    0.0   1020.77           60.71           33.33   \n",
       " 12                    0.0   1021.54           57.60           36.15   \n",
       " 13                    0.0   1021.37           57.36           36.14   \n",
       " 14                    0.0   1021.51           57.51           36.27   \n",
       " 15                    0.0   1021.36           57.40           36.05   \n",
       " 16                    0.0   1021.36           57.25           35.97   \n",
       " 17                    0.0   1021.36           57.23           35.90   \n",
       " 18                    0.0   1021.06           54.83           31.49   \n",
       " 19                    0.0   1021.42           56.56           35.28   \n",
       " 20                    0.0   1021.25           56.86           35.64   \n",
       " 21                    0.0   1021.09           55.43           32.20   \n",
       " 22                    0.0   1020.99           55.15           31.80   \n",
       " 23                    0.0   1021.18           54.87           35.73   \n",
       " 24                    0.0   1021.58           66.45           39.12   \n",
       " 25                    0.0   1021.41           66.40           39.81   \n",
       " 26                    0.0   1022.03           67.20           41.61   \n",
       " 27                    0.0   1022.03           67.32           41.75   \n",
       " 28                    0.0   1022.03           66.62           40.69   \n",
       " 29                    0.0   1022.03           66.99           40.24   \n",
       " ...                   ...       ...             ...             ...   \n",
       " 177463                0.0   1012.53           90.45           71.18   \n",
       " 177464                0.0   1012.16           88.58           70.47   \n",
       " 177465                0.0   1012.16           88.60           70.47   \n",
       " 177466                0.0   1011.94           88.56           70.64   \n",
       " 177467                0.0   1012.16           88.32           70.66   \n",
       " 177468                0.0   1011.97           88.55           70.67   \n",
       " 177469                0.0   1014.27           88.29           72.65   \n",
       " 177470                0.0   1014.27           88.47           72.46   \n",
       " 177471                0.0   1014.27           88.54           72.40   \n",
       " 177472                0.0   1014.27           88.83           72.50   \n",
       " 177473                0.0   1014.27           88.77           72.54   \n",
       " 177474                0.0   1014.56           88.86           72.53   \n",
       " 177475                0.0   1009.99           90.15           71.53   \n",
       " 177476                0.0   1010.04           90.04           71.31   \n",
       " 177477                0.0   1010.08           89.93           71.23   \n",
       " 177478                0.0   1010.15           89.73           71.16   \n",
       " 177479                0.0   1009.88           90.25           70.69   \n",
       " 177480                0.0   1010.12           89.80           71.24   \n",
       " 177481                0.0   1013.55           91.81           75.35   \n",
       " 177482                0.0   1013.35           91.09           74.93   \n",
       " 177483                0.0   1013.45           91.85           75.52   \n",
       " 177484                0.0   1013.49           92.02           75.51   \n",
       " 177485                0.0   1013.40           90.57           74.95   \n",
       " 177486                0.0   1013.51           91.10           74.88   \n",
       " 177487                0.0   1012.09           88.00           68.82   \n",
       " 177488                0.0   1012.09           88.00           68.87   \n",
       " 177489                0.0   1012.10           87.77           68.80   \n",
       " 177490                0.0   1012.08           88.17           68.76   \n",
       " 177491                0.0   1012.08           88.17           68.99   \n",
       " 177492                0.0   1012.00           88.09           68.40   \n",
       " \n",
       "         visibility  windBearing  windSpeed        NDVI  DayInSeason  \n",
       " 0             2.46        214.0       1.18  134.110657          0.0  \n",
       " 1             2.83        166.0       1.01  131.506592          0.0  \n",
       " 2             2.95        158.0       1.03  131.472946          0.0  \n",
       " 3             2.89        153.0       1.84  131.288300          0.0  \n",
       " 4             2.97        156.0       1.85  131.288300          0.0  \n",
       " 5             2.85        151.0       1.37  131.087753          0.0  \n",
       " 6             9.70        213.0       3.22  154.290955          0.0  \n",
       " 7             9.72        214.0       3.13  154.048492          0.0  \n",
       " 8             9.58        199.0       4.43  150.004395          0.0  \n",
       " 9             9.76        208.0       4.42  149.816055          0.0  \n",
       " 10            9.72        205.0       4.61  149.649872          0.0  \n",
       " 11            9.68        202.0       5.12  149.522354          0.0  \n",
       " 12            9.91        189.0       9.35  146.368835          0.0  \n",
       " 13            9.93        191.0       8.94  145.966644          0.0  \n",
       " 14            9.92        189.0       9.47  145.963303          0.0  \n",
       " 15            9.93        192.0       8.75  144.851639          0.0  \n",
       " 16            9.96        193.0       8.60  144.537231          0.0  \n",
       " 17            9.96        194.0       8.49  144.537231          0.0  \n",
       " 18            9.94        190.0       6.60  143.440994          0.0  \n",
       " 19            9.95        193.0       8.53  143.429535          0.0  \n",
       " 20            9.96        193.0       8.02  143.028503          0.0  \n",
       " 21            9.94        191.0       6.94  142.802261          0.0  \n",
       " 22            9.98        192.0       7.41  142.733658          0.0  \n",
       " 23            9.97        194.0       8.22  140.886826          0.0  \n",
       " 24            9.75        187.0       8.45  152.138367          0.0  \n",
       " 25            9.84        191.0       8.97  152.061600          0.0  \n",
       " 26            9.79        188.0       8.15  150.964935          0.0  \n",
       " 27            9.80        187.0       8.02  150.931732          0.0  \n",
       " 28            9.74        186.0       8.30  150.412308          0.0  \n",
       " 29            9.51        185.0       7.62  149.192184          0.0  \n",
       " ...            ...          ...        ...         ...          ...  \n",
       " 177463       10.00        171.0      13.05  156.015564        185.0  \n",
       " 177464        9.96        149.0       8.73  153.006073        185.0  \n",
       " 177465        9.96        149.0       8.75  153.006073        185.0  \n",
       " 177466        9.98        145.0       8.50  152.826324        185.0  \n",
       " 177467        9.97        150.0       8.70  152.245850        185.0  \n",
       " 177468        9.97        146.0       8.57  151.896469        185.0  \n",
       " 177469        9.97        155.0       7.75  160.868439        185.0  \n",
       " 177470       10.00        153.0       7.54  160.721847        185.0  \n",
       " 177471        9.91        148.0       7.23  160.632553        185.0  \n",
       " 177472        9.94        153.0       7.38  160.601593        185.0  \n",
       " 177473        9.98        152.0       7.52  160.183258        185.0  \n",
       " 177474        9.97        154.0       7.46  160.140595        185.0  \n",
       " 177475        9.37        178.0      14.06  158.952057        185.0  \n",
       " 177476        9.42        177.0      13.86  158.940399        185.0  \n",
       " 177477        9.42        177.0      13.89  158.839493        185.0  \n",
       " 177478        9.38        177.0      14.07  158.839493        185.0  \n",
       " 177479        9.41        177.0      13.92  158.755798        185.0  \n",
       " 177480        9.37        177.0      14.10  158.657349        185.0  \n",
       " 177481       10.00        121.0       8.10  150.124451        185.0  \n",
       " 177482        9.96        121.0       7.35  150.069687        185.0  \n",
       " 177483        9.97        121.0       7.89  150.010284        185.0  \n",
       " 177484        9.98        121.0       8.21  150.010284        185.0  \n",
       " 177485        9.96        126.0       7.74  149.513534        185.0  \n",
       " 177486       10.00        120.0       7.63  149.319672        185.0  \n",
       " 177487        9.36        183.0       8.63  159.935822        185.0  \n",
       " 177488        9.37        183.0       8.62  159.935822        185.0  \n",
       " 177489        9.36        183.0       8.61  159.907471        185.0  \n",
       " 177490        9.34        182.0       8.63  159.834152        185.0  \n",
       " 177491        9.38        183.0       8.59  159.811905        185.0  \n",
       " 177492        9.27        181.0       8.86  159.020294        185.0  \n",
       " \n",
       " [177229 rows x 20 columns], 0         35.7\n",
       " 1         35.7\n",
       " 2         35.7\n",
       " 3         35.7\n",
       " 4         35.7\n",
       " 5         35.7\n",
       " 6         14.4\n",
       " 7         14.4\n",
       " 8         14.4\n",
       " 9         14.4\n",
       " 10        14.4\n",
       " 11        14.4\n",
       " 12        46.5\n",
       " 13        46.5\n",
       " 14        46.5\n",
       " 15        46.5\n",
       " 16        46.5\n",
       " 17        46.5\n",
       " 18        45.6\n",
       " 19        45.6\n",
       " 20        45.6\n",
       " 21        45.6\n",
       " 22        45.6\n",
       " 23        45.6\n",
       " 24        13.1\n",
       " 25        13.1\n",
       " 26        13.1\n",
       " 27        13.1\n",
       " 28        13.1\n",
       " 29        13.1\n",
       "           ... \n",
       " 177463    36.9\n",
       " 177464    11.2\n",
       " 177465    11.2\n",
       " 177466    11.2\n",
       " 177467    11.2\n",
       " 177468    11.2\n",
       " 177469    47.9\n",
       " 177470    47.9\n",
       " 177471    47.9\n",
       " 177472    47.9\n",
       " 177473    47.9\n",
       " 177474    47.9\n",
       " 177475    30.4\n",
       " 177476    30.4\n",
       " 177477    30.4\n",
       " 177478    30.4\n",
       " 177479    30.4\n",
       " 177480    30.4\n",
       " 177481    31.9\n",
       " 177482    31.9\n",
       " 177483    31.9\n",
       " 177484    31.9\n",
       " 177485    31.9\n",
       " 177486    31.9\n",
       " 177487    59.0\n",
       " 177488    59.0\n",
       " 177489    59.0\n",
       " 177490    59.0\n",
       " 177491    59.0\n",
       " 177492    59.0\n",
       " Name: Yield, Length: 177229, dtype: float64)"
      ]
     },
     "execution_count": 21,
     "metadata": {},
     "output_type": "execute_result"
    }
   ],
   "source": [
    "# Converting the features to float data type\n",
    "X.astype(float),y.astype(float)"
   ]
  },
  {
   "cell_type": "markdown",
   "metadata": {},
   "source": [
    "### Preprocessing End"
   ]
  },
  {
   "cell_type": "markdown",
   "metadata": {},
   "source": [
    "# Polynomial Regression"
   ]
  },
  {
   "cell_type": "code",
   "execution_count": 22,
   "metadata": {},
   "outputs": [
    {
     "data": {
      "text/plain": [
       "LinearRegression(copy_X=True, fit_intercept=True, n_jobs=None, normalize=True)"
      ]
     },
     "execution_count": 22,
     "metadata": {},
     "output_type": "execute_result"
    }
   ],
   "source": [
    "\n",
    "# Fitting Linear Regression to the dataset\n",
    "from sklearn.linear_model import LinearRegression\n",
    "lin_reg = LinearRegression(normalize=True)\n",
    "lin_reg.fit(X, y)"
   ]
  },
  {
   "cell_type": "code",
   "execution_count": 23,
   "metadata": {},
   "outputs": [
    {
     "data": {
      "text/plain": [
       "LinearRegression(copy_X=True, fit_intercept=True, n_jobs=None, normalize=True)"
      ]
     },
     "execution_count": 23,
     "metadata": {},
     "output_type": "execute_result"
    }
   ],
   "source": [
    "# Fitting Polynomial Regression to the dataset\n",
    "from sklearn.preprocessing import PolynomialFeatures\n",
    "poly_reg = PolynomialFeatures(degree = 3)\n",
    "X_poly = poly_reg.fit_transform(X)\n",
    "poly_reg.fit(X_poly, y)\n",
    "lin_reg_2 = LinearRegression(normalize=True)\n",
    "lin_reg_2.fit(X_poly, y)"
   ]
  },
  {
   "cell_type": "code",
   "execution_count": 24,
   "metadata": {},
   "outputs": [],
   "source": [
    "y_predPR = lin_reg_2.predict(X_poly)"
   ]
  },
  {
   "cell_type": "code",
   "execution_count": 25,
   "metadata": {},
   "outputs": [
    {
     "name": "stdout",
     "output_type": "stream",
     "text": [
      "0.3724026576931827\n",
      "0.3724026576931827\n"
     ]
    }
   ],
   "source": [
    "#print(lin_reg_2.score(X_train,y_train))\n",
    "print(lin_reg_2.score(X_poly,y))\n",
    "print(r2_score(y,y_predPR))"
   ]
  },
  {
   "cell_type": "markdown",
   "metadata": {},
   "source": [
    "#### Polynomial Regression end"
   ]
  },
  {
   "cell_type": "code",
   "execution_count": 26,
   "metadata": {},
   "outputs": [],
   "source": [
    "#  Visualisation\n",
    "\n",
    "\n"
   ]
  },
  {
   "cell_type": "markdown",
   "metadata": {},
   "source": [
    "# Decision Tree Regression"
   ]
  },
  {
   "cell_type": "code",
   "execution_count": 27,
   "metadata": {},
   "outputs": [],
   "source": [
    "from sklearn.tree import DecisionTreeRegressor"
   ]
  },
  {
   "cell_type": "code",
   "execution_count": 28,
   "metadata": {},
   "outputs": [],
   "source": [
    "dtregressor = DecisionTreeRegressor(max_depth=None, min_samples_split=2, random_state=42)\n",
    "dtregressor.fit(X_train, y_train)\n",
    "\n",
    "y_predDT = dtregressor.predict(X_test)"
   ]
  },
  {
   "cell_type": "code",
   "execution_count": 29,
   "metadata": {},
   "outputs": [
    {
     "name": "stdout",
     "output_type": "stream",
     "text": [
      "[12.7 49.3 51.2 ...  9.6 27.7 45.6]\n"
     ]
    }
   ],
   "source": [
    "print(y_predDT)"
   ]
  },
  {
   "cell_type": "code",
   "execution_count": 30,
   "metadata": {},
   "outputs": [
    {
     "name": "stdout",
     "output_type": "stream",
     "text": [
      "0.6745525231373469\n",
      "0.6745525231373469\n"
     ]
    }
   ],
   "source": [
    "print(dtregressor.score(X_test,y_test))\n",
    "print(r2_score(y_test,y_predDT))"
   ]
  },
  {
   "cell_type": "code",
   "execution_count": 31,
   "metadata": {},
   "outputs": [],
   "source": [
    "#Visualisation\n",
    "\n",
    "\n",
    "\n"
   ]
  },
  {
   "cell_type": "markdown",
   "metadata": {},
   "source": [
    "### Decision Tree end"
   ]
  },
  {
   "cell_type": "markdown",
   "metadata": {},
   "source": [
    "# Random Forest Regression"
   ]
  },
  {
   "cell_type": "code",
   "execution_count": 32,
   "metadata": {},
   "outputs": [],
   "source": [
    "# Importing the Library\n",
    "from sklearn.ensemble import RandomForestRegressor"
   ]
  },
  {
   "cell_type": "code",
   "execution_count": 33,
   "metadata": {},
   "outputs": [],
   "source": [
    "# instantiating the model\n",
    "rfregressor = RandomForestRegressor(n_estimators=100, random_state = 42)\n",
    "model=rfregressor.fit(X_train, y_train)"
   ]
  },
  {
   "cell_type": "code",
   "execution_count": 34,
   "metadata": {},
   "outputs": [],
   "source": [
    "# Predicting Test Set\n",
    "y_pred = model.predict(X_test)"
   ]
  },
  {
   "cell_type": "code",
   "execution_count": 35,
   "metadata": {},
   "outputs": [
    {
     "name": "stdout",
     "output_type": "stream",
     "text": [
      "[16.163 38.29  46.064 ... 12.866 28.459 28.999]\n"
     ]
    }
   ],
   "source": [
    "# Print predocted values\n",
    "print(y_pred)"
   ]
  },
  {
   "cell_type": "code",
   "execution_count": 36,
   "metadata": {},
   "outputs": [
    {
     "name": "stderr",
     "output_type": "stream",
     "text": [
      "D:\\Anaconda3\\lib\\site-packages\\ipykernel_launcher.py:2: SettingWithCopyWarning: \n",
      "A value is trying to be set on a copy of a slice from a DataFrame.\n",
      "Try using .loc[row_indexer,col_indexer] = value instead\n",
      "\n",
      "See the caveats in the documentation: http://pandas.pydata.org/pandas-docs/stable/indexing.html#indexing-view-versus-copy\n",
      "  \n"
     ]
    },
    {
     "name": "stdout",
     "output_type": "stream",
     "text": [
      "[16.163 38.29  46.064 ... 12.866 28.459 28.999]\n"
     ]
    },
    {
     "name": "stderr",
     "output_type": "stream",
     "text": [
      "D:\\Anaconda3\\lib\\site-packages\\pandas\\core\\indexing.py:543: SettingWithCopyWarning: \n",
      "A value is trying to be set on a copy of a slice from a DataFrame.\n",
      "Try using .loc[row_indexer,col_indexer] = value instead\n",
      "\n",
      "See the caveats in the documentation: http://pandas.pydata.org/pandas-docs/stable/indexing.html#indexing-view-versus-copy\n",
      "  self.obj[item] = s\n"
     ]
    }
   ],
   "source": [
    "# Storing values of predicted Yield in a new column\n",
    "total_data2['y_pred']=np.NAN\n",
    "total_data2.iloc[(len(total_data2)-len(y_pred)):,-1:] = y_pred\n",
    "total_data3 = total_data2.dropna\n",
    "print(y_pred)"
   ]
  },
  {
   "cell_type": "code",
   "execution_count": 37,
   "metadata": {},
   "outputs": [
    {
     "name": "stdout",
     "output_type": "stream",
     "text": [
      "0.9797195268370239\n",
      "0.8548544624665072\n"
     ]
    }
   ],
   "source": [
    "# Checking the Accuracy\n",
    "print(model.score(X_train,y_train))\n",
    "print(model.score(X_test,y_test))"
   ]
  },
  {
   "cell_type": "code",
   "execution_count": 38,
   "metadata": {},
   "outputs": [],
   "source": [
    "# important features\n",
    "imp = list(zip(X,model.feature_importances_))\n",
    "imp=sorted(imp,key=lambda x:x[1])"
   ]
  },
  {
   "cell_type": "code",
   "execution_count": 39,
   "metadata": {},
   "outputs": [
    {
     "name": "stdout",
     "output_type": "stream",
     "text": [
      "[('precipTypeIsOther', 0.0), ('precipTypeIsSnow', 0.0003020010512853739), ('precipTypeIsRain', 0.001183343697379852), ('precipAccumulation', 0.003853853210302644), ('precipProbability', 0.0068206020273084015), ('precipIntensityMax', 0.012184726118114865), ('precipIntensity', 0.014831802483320708), ('cloudCover', 0.03287244582035734), ('apparentTemperatureMax', 0.04539134270719786), ('temperatureMin', 0.04742161367504414), ('visibility', 0.048403077341477474), ('temperatureMax', 0.06468851166097943), ('apparentTemperatureMin', 0.06719397021696268), ('dewPoint', 0.07028924073801203), ('humidity', 0.07963215466904505), ('windSpeed', 0.08724171371860778), ('NDVI', 0.09549803488641294), ('DayInSeason', 0.1008345565765131), ('windBearing', 0.10975762036661407), ('pressure', 0.11159938903506425)]\n"
     ]
    }
   ],
   "source": [
    "# Printing the feature importance\n",
    "print(imp)"
   ]
  },
  {
   "cell_type": "code",
   "execution_count": 40,
   "metadata": {
    "scrolled": true
   },
   "outputs": [],
   "source": [
    "#Visualisation\n",
    "\n",
    "\n",
    "\n",
    "\n"
   ]
  },
  {
   "cell_type": "markdown",
   "metadata": {},
   "source": [
    "### random forests end"
   ]
  },
  {
   "cell_type": "markdown",
   "metadata": {},
   "source": [
    "# That's all Folks!"
   ]
  },
  {
   "cell_type": "markdown",
   "metadata": {},
   "source": [
    "# EXTRAS\n",
    "\n",
    "### Don't run further, it won't work."
   ]
  },
  {
   "cell_type": "code",
   "execution_count": null,
   "metadata": {},
   "outputs": [],
   "source": []
  },
  {
   "cell_type": "code",
   "execution_count": null,
   "metadata": {},
   "outputs": [],
   "source": []
  },
  {
   "cell_type": "markdown",
   "metadata": {},
   "source": [
    "# SVR"
   ]
  },
  {
   "cell_type": "code",
   "execution_count": 34,
   "metadata": {
    "scrolled": true
   },
   "outputs": [
    {
     "name": "stderr",
     "output_type": "stream",
     "text": [
      "/Users/ruchita/anaconda3/lib/python3.7/site-packages/sklearn/svm/base.py:196: FutureWarning: The default value of gamma will change from 'auto' to 'scale' in version 0.22 to account better for unscaled features. Set gamma explicitly to 'auto' or 'scale' to avoid this warning.\n",
      "  \"avoid this warning.\", FutureWarning)\n"
     ]
    }
   ],
   "source": [
    "# X\n",
    "# Support vector regression (RBF)\n",
    "\n",
    "X_train2, X_test2, y_train2, y_test2 = train_test_split(X, y, train_size=0.05, test_size=0.95, random_state=42)\n",
    "\n",
    "from sklearn.svm import SVR\n",
    "svregressor=SVR(kernel='linear', epsilon=1.0)\n",
    "\n",
    "svregressor.fit(X_train2,y_train2)\n",
    "pred=svregressor.predict(X_test2)\n"
   ]
  },
  {
   "cell_type": "code",
   "execution_count": 35,
   "metadata": {},
   "outputs": [
    {
     "name": "stdout",
     "output_type": "stream",
     "text": [
      "0.032266696131612704\n",
      "0.1349345231518586\n",
      "0.032266696131612704\n"
     ]
    }
   ],
   "source": [
    "print(svregressor.score(X_test2,y_test2))\n",
    "print(svregressor.score(X_train2,y_train2))\n",
    "\n",
    "print(r2_score(y_test2,pred))"
   ]
  },
  {
   "cell_type": "code",
   "execution_count": null,
   "metadata": {},
   "outputs": [],
   "source": []
  },
  {
   "cell_type": "code",
   "execution_count": 48,
   "metadata": {},
   "outputs": [
    {
     "name": "stdout",
     "output_type": "stream",
     "text": [
      "4.214100321615979\n",
      "75.17892362090691\n",
      "8.670578044219827\n"
     ]
    }
   ],
   "source": [
    "from sklearn import metrics\n",
    "\n",
    "#MAE\n",
    "print(metrics.mean_absolute_error(y_test, y_predDT))\n",
    "#MSE\n",
    "print(metrics.mean_squared_error(y_test, y_predDT))\n",
    "#RMSE\n",
    "print(np.sqrt(metrics.mean_squared_error(y_predDT, y_test)))"
   ]
  },
  {
   "cell_type": "code",
   "execution_count": null,
   "metadata": {},
   "outputs": [],
   "source": []
  },
  {
   "cell_type": "code",
   "execution_count": 50,
   "metadata": {
    "scrolled": true
   },
   "outputs": [
    {
     "data": {
      "image/png": "[encoded data removed]",
      "text/plain": [
       "<Figure size 432x288 with 1 Axes>"
      ]
     },
     "metadata": {
      "needs_background": "light"
     },
     "output_type": "display_data"
    }
   ],
   "source": [
    "#visualize results\n",
    "X = total_data2[[\"NDVI\"]]\n",
    "y = total_data2[[\"Yield\"]]\n",
    "plt.scatter(X, y)\n",
    "plt.plot(X_train, dtregressor.predict(X_train))\n",
    "plt.show()"
   ]
  }
 ],
 "metadata": {
  "kernelspec": {
   "display_name": "Python 3",
   "language": "python",
   "name": "python3"
  },
  "language_info": {
   "codemirror_mode": {
    "name": "ipython",
    "version": 3
   },
   "file_extension": ".py",
   "mimetype": "text/x-python",
   "name": "python",
   "nbconvert_exporter": "python",
   "pygments_lexer": "ipython3",
   "version": "3.7.1"
  }
 },
 "nbformat": 4,
 "nbformat_minor": 2
}
